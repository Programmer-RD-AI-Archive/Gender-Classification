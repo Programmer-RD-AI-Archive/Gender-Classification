{
  "nbformat": 4,
  "nbformat_minor": 0,
  "metadata": {
    "colab": {
      "name": "00-main.ipynb",
      "provenance": [],
      "collapsed_sections": []
    },
    "kernelspec": {
      "name": "python3",
      "display_name": "Python 3"
    },
    "language_info": {
      "name": "python"
    },
    "widgets": {
      "application/vnd.jupyter.widget-state+json": {
        "c329d319d8e246ce9e5ce80a2c4b817c": {
          "model_module": "@jupyter-widgets/controls",
          "model_name": "VBoxModel",
          "state": {
            "_dom_classes": [],
            "_model_module": "@jupyter-widgets/controls",
            "_model_module_version": "1.4.0",
            "_model_name": "VBoxModel",
            "_view_count": null,
            "_view_module": "@jupyter-widgets/controls",
            "_view_module_version": "1.4.0",
            "_view_name": "VBoxView",
            "box_style": "",
            "children": [
              "IPY_MODEL_e9fb2135941c4b1bbb1a43d168eb196c",
              "IPY_MODEL_3da09b99d33247ceb782998be9eaaca3"
            ],
            "layout": "IPY_MODEL_6613d478275b4e6dbfbbf1b2e8ddf4d0"
          }
        },
        "e9fb2135941c4b1bbb1a43d168eb196c": {
          "model_module": "@jupyter-widgets/controls",
          "model_name": "LabelModel",
          "state": {
            "_dom_classes": [],
            "_model_module": "@jupyter-widgets/controls",
            "_model_module_version": "1.4.0",
            "_model_name": "LabelModel",
            "_view_count": null,
            "_view_module": "@jupyter-widgets/controls",
            "_view_module_version": "1.4.0",
            "_view_name": "LabelView",
            "description": "",
            "description_tooltip": null,
            "layout": "IPY_MODEL_a048f1e3d45c42b0a127fdb663fda28a",
            "placeholder": "​",
            "style": "IPY_MODEL_54b466599aae4d88a5f02a046363b1a5",
            "value": " 67.97MB of 67.97MB uploaded (0.00MB deduped)\r"
          }
        },
        "3da09b99d33247ceb782998be9eaaca3": {
          "model_module": "@jupyter-widgets/controls",
          "model_name": "FloatProgressModel",
          "state": {
            "_dom_classes": [],
            "_model_module": "@jupyter-widgets/controls",
            "_model_module_version": "1.4.0",
            "_model_name": "FloatProgressModel",
            "_view_count": null,
            "_view_module": "@jupyter-widgets/controls",
            "_view_module_version": "1.4.0",
            "_view_name": "ProgressView",
            "bar_style": "",
            "description": "",
            "description_tooltip": null,
            "layout": "IPY_MODEL_54c5eb70c79b4109bf69e4ad0a924e9d",
            "max": 1,
            "min": 0,
            "orientation": "horizontal",
            "style": "IPY_MODEL_4faec0611ee54eba8be12070cc3f1c90",
            "value": 1
          }
        },
        "6613d478275b4e6dbfbbf1b2e8ddf4d0": {
          "model_module": "@jupyter-widgets/base",
          "model_name": "LayoutModel",
          "state": {
            "_model_module": "@jupyter-widgets/base",
            "_model_module_version": "1.1.0",
            "_model_name": "LayoutModel",
            "_view_count": null,
            "_view_module": "@jupyter-widgets/base",
            "_view_module_version": "1.1.0",
            "_view_name": "LayoutView",
            "align_content": null,
            "align_items": null,
            "align_self": null,
            "border": null,
            "bottom": null,
            "display": null,
            "flex": null,
            "flex_flow": null,
            "grid_area": null,
            "grid_auto_columns": null,
            "grid_auto_flow": null,
            "grid_auto_rows": null,
            "grid_column": null,
            "grid_gap": null,
            "grid_row": null,
            "grid_template_areas": null,
            "grid_template_columns": null,
            "grid_template_rows": null,
            "height": null,
            "justify_content": null,
            "left": null,
            "margin": null,
            "max_height": null,
            "max_width": null,
            "min_height": null,
            "min_width": null,
            "order": null,
            "overflow": null,
            "overflow_x": null,
            "overflow_y": null,
            "padding": null,
            "right": null,
            "top": null,
            "visibility": null,
            "width": null
          }
        },
        "a048f1e3d45c42b0a127fdb663fda28a": {
          "model_module": "@jupyter-widgets/base",
          "model_name": "LayoutModel",
          "state": {
            "_model_module": "@jupyter-widgets/base",
            "_model_module_version": "1.1.0",
            "_model_name": "LayoutModel",
            "_view_count": null,
            "_view_module": "@jupyter-widgets/base",
            "_view_module_version": "1.1.0",
            "_view_name": "LayoutView",
            "align_content": null,
            "align_items": null,
            "align_self": null,
            "border": null,
            "bottom": null,
            "display": null,
            "flex": null,
            "flex_flow": null,
            "grid_area": null,
            "grid_auto_columns": null,
            "grid_auto_flow": null,
            "grid_auto_rows": null,
            "grid_column": null,
            "grid_gap": null,
            "grid_row": null,
            "grid_template_areas": null,
            "grid_template_columns": null,
            "grid_template_rows": null,
            "height": null,
            "justify_content": null,
            "left": null,
            "margin": null,
            "max_height": null,
            "max_width": null,
            "min_height": null,
            "min_width": null,
            "order": null,
            "overflow": null,
            "overflow_x": null,
            "overflow_y": null,
            "padding": null,
            "right": null,
            "top": null,
            "visibility": null,
            "width": null
          }
        },
        "54b466599aae4d88a5f02a046363b1a5": {
          "model_module": "@jupyter-widgets/controls",
          "model_name": "DescriptionStyleModel",
          "state": {
            "_model_module": "@jupyter-widgets/controls",
            "_model_module_version": "1.4.0",
            "_model_name": "DescriptionStyleModel",
            "_view_count": null,
            "_view_module": "@jupyter-widgets/base",
            "_view_module_version": "1.1.0",
            "_view_name": "StyleView",
            "description_width": ""
          }
        },
        "54c5eb70c79b4109bf69e4ad0a924e9d": {
          "model_module": "@jupyter-widgets/base",
          "model_name": "LayoutModel",
          "state": {
            "_model_module": "@jupyter-widgets/base",
            "_model_module_version": "1.1.0",
            "_model_name": "LayoutModel",
            "_view_count": null,
            "_view_module": "@jupyter-widgets/base",
            "_view_module_version": "1.1.0",
            "_view_name": "LayoutView",
            "align_content": null,
            "align_items": null,
            "align_self": null,
            "border": null,
            "bottom": null,
            "display": null,
            "flex": null,
            "flex_flow": null,
            "grid_area": null,
            "grid_auto_columns": null,
            "grid_auto_flow": null,
            "grid_auto_rows": null,
            "grid_column": null,
            "grid_gap": null,
            "grid_row": null,
            "grid_template_areas": null,
            "grid_template_columns": null,
            "grid_template_rows": null,
            "height": null,
            "justify_content": null,
            "left": null,
            "margin": null,
            "max_height": null,
            "max_width": null,
            "min_height": null,
            "min_width": null,
            "order": null,
            "overflow": null,
            "overflow_x": null,
            "overflow_y": null,
            "padding": null,
            "right": null,
            "top": null,
            "visibility": null,
            "width": null
          }
        },
        "4faec0611ee54eba8be12070cc3f1c90": {
          "model_module": "@jupyter-widgets/controls",
          "model_name": "ProgressStyleModel",
          "state": {
            "_model_module": "@jupyter-widgets/controls",
            "_model_module_version": "1.4.0",
            "_model_name": "ProgressStyleModel",
            "_view_count": null,
            "_view_module": "@jupyter-widgets/base",
            "_view_module_version": "1.1.0",
            "_view_name": "StyleView",
            "bar_color": null,
            "description_width": ""
          }
        },
        "f51d40cbf3c24aa389d6c653a0a6dfd9": {
          "model_module": "@jupyter-widgets/controls",
          "model_name": "VBoxModel",
          "state": {
            "_dom_classes": [],
            "_model_module": "@jupyter-widgets/controls",
            "_model_module_version": "1.4.0",
            "_model_name": "VBoxModel",
            "_view_count": null,
            "_view_module": "@jupyter-widgets/controls",
            "_view_module_version": "1.4.0",
            "_view_name": "VBoxView",
            "box_style": "",
            "children": [
              "IPY_MODEL_7e6e3a3f49df4e4aaa9442e2bf00e408",
              "IPY_MODEL_16c55426a0424b96955ddad202e99b3a"
            ],
            "layout": "IPY_MODEL_a9b93fac3dc14ecc971432c119196ed3"
          }
        },
        "7e6e3a3f49df4e4aaa9442e2bf00e408": {
          "model_module": "@jupyter-widgets/controls",
          "model_name": "LabelModel",
          "state": {
            "_dom_classes": [],
            "_model_module": "@jupyter-widgets/controls",
            "_model_module_version": "1.4.0",
            "_model_name": "LabelModel",
            "_view_count": null,
            "_view_module": "@jupyter-widgets/controls",
            "_view_module_version": "1.4.0",
            "_view_name": "LabelView",
            "description": "",
            "description_tooltip": null,
            "layout": "IPY_MODEL_6eb8e4ec4de441a48b3e16a8b288f0b7",
            "placeholder": "​",
            "style": "IPY_MODEL_30217d94580b415c813313925c92bb84",
            "value": " 67.95MB of 67.95MB uploaded (0.00MB deduped)\r"
          }
        },
        "16c55426a0424b96955ddad202e99b3a": {
          "model_module": "@jupyter-widgets/controls",
          "model_name": "FloatProgressModel",
          "state": {
            "_dom_classes": [],
            "_model_module": "@jupyter-widgets/controls",
            "_model_module_version": "1.4.0",
            "_model_name": "FloatProgressModel",
            "_view_count": null,
            "_view_module": "@jupyter-widgets/controls",
            "_view_module_version": "1.4.0",
            "_view_name": "ProgressView",
            "bar_style": "",
            "description": "",
            "description_tooltip": null,
            "layout": "IPY_MODEL_d5c77476b6cd44b4b4c1a1064d498d2f",
            "max": 1,
            "min": 0,
            "orientation": "horizontal",
            "style": "IPY_MODEL_a248c91c76af4fb480a491608c771bd9",
            "value": 1
          }
        },
        "a9b93fac3dc14ecc971432c119196ed3": {
          "model_module": "@jupyter-widgets/base",
          "model_name": "LayoutModel",
          "state": {
            "_model_module": "@jupyter-widgets/base",
            "_model_module_version": "1.1.0",
            "_model_name": "LayoutModel",
            "_view_count": null,
            "_view_module": "@jupyter-widgets/base",
            "_view_module_version": "1.1.0",
            "_view_name": "LayoutView",
            "align_content": null,
            "align_items": null,
            "align_self": null,
            "border": null,
            "bottom": null,
            "display": null,
            "flex": null,
            "flex_flow": null,
            "grid_area": null,
            "grid_auto_columns": null,
            "grid_auto_flow": null,
            "grid_auto_rows": null,
            "grid_column": null,
            "grid_gap": null,
            "grid_row": null,
            "grid_template_areas": null,
            "grid_template_columns": null,
            "grid_template_rows": null,
            "height": null,
            "justify_content": null,
            "left": null,
            "margin": null,
            "max_height": null,
            "max_width": null,
            "min_height": null,
            "min_width": null,
            "order": null,
            "overflow": null,
            "overflow_x": null,
            "overflow_y": null,
            "padding": null,
            "right": null,
            "top": null,
            "visibility": null,
            "width": null
          }
        },
        "6eb8e4ec4de441a48b3e16a8b288f0b7": {
          "model_module": "@jupyter-widgets/base",
          "model_name": "LayoutModel",
          "state": {
            "_model_module": "@jupyter-widgets/base",
            "_model_module_version": "1.1.0",
            "_model_name": "LayoutModel",
            "_view_count": null,
            "_view_module": "@jupyter-widgets/base",
            "_view_module_version": "1.1.0",
            "_view_name": "LayoutView",
            "align_content": null,
            "align_items": null,
            "align_self": null,
            "border": null,
            "bottom": null,
            "display": null,
            "flex": null,
            "flex_flow": null,
            "grid_area": null,
            "grid_auto_columns": null,
            "grid_auto_flow": null,
            "grid_auto_rows": null,
            "grid_column": null,
            "grid_gap": null,
            "grid_row": null,
            "grid_template_areas": null,
            "grid_template_columns": null,
            "grid_template_rows": null,
            "height": null,
            "justify_content": null,
            "left": null,
            "margin": null,
            "max_height": null,
            "max_width": null,
            "min_height": null,
            "min_width": null,
            "order": null,
            "overflow": null,
            "overflow_x": null,
            "overflow_y": null,
            "padding": null,
            "right": null,
            "top": null,
            "visibility": null,
            "width": null
          }
        },
        "30217d94580b415c813313925c92bb84": {
          "model_module": "@jupyter-widgets/controls",
          "model_name": "DescriptionStyleModel",
          "state": {
            "_model_module": "@jupyter-widgets/controls",
            "_model_module_version": "1.4.0",
            "_model_name": "DescriptionStyleModel",
            "_view_count": null,
            "_view_module": "@jupyter-widgets/base",
            "_view_module_version": "1.1.0",
            "_view_name": "StyleView",
            "description_width": ""
          }
        },
        "d5c77476b6cd44b4b4c1a1064d498d2f": {
          "model_module": "@jupyter-widgets/base",
          "model_name": "LayoutModel",
          "state": {
            "_model_module": "@jupyter-widgets/base",
            "_model_module_version": "1.1.0",
            "_model_name": "LayoutModel",
            "_view_count": null,
            "_view_module": "@jupyter-widgets/base",
            "_view_module_version": "1.1.0",
            "_view_name": "LayoutView",
            "align_content": null,
            "align_items": null,
            "align_self": null,
            "border": null,
            "bottom": null,
            "display": null,
            "flex": null,
            "flex_flow": null,
            "grid_area": null,
            "grid_auto_columns": null,
            "grid_auto_flow": null,
            "grid_auto_rows": null,
            "grid_column": null,
            "grid_gap": null,
            "grid_row": null,
            "grid_template_areas": null,
            "grid_template_columns": null,
            "grid_template_rows": null,
            "height": null,
            "justify_content": null,
            "left": null,
            "margin": null,
            "max_height": null,
            "max_width": null,
            "min_height": null,
            "min_width": null,
            "order": null,
            "overflow": null,
            "overflow_x": null,
            "overflow_y": null,
            "padding": null,
            "right": null,
            "top": null,
            "visibility": null,
            "width": null
          }
        },
        "a248c91c76af4fb480a491608c771bd9": {
          "model_module": "@jupyter-widgets/controls",
          "model_name": "ProgressStyleModel",
          "state": {
            "_model_module": "@jupyter-widgets/controls",
            "_model_module_version": "1.4.0",
            "_model_name": "ProgressStyleModel",
            "_view_count": null,
            "_view_module": "@jupyter-widgets/base",
            "_view_module_version": "1.1.0",
            "_view_name": "StyleView",
            "bar_color": null,
            "description_width": ""
          }
        }
      }
    }
  },
  "cells": [
    {
      "cell_type": "code",
      "metadata": {
        "id": "H5rsrB-vwKqK"
      },
      "source": [
        "# !unzip ./data.zip"
      ],
      "execution_count": 1,
      "outputs": []
    },
    {
      "cell_type": "code",
      "metadata": {
        "id": "juEKvoQFbl7M"
      },
      "source": [
        "import tensorflow as tf\n",
        "config = tf.compat.v1.ConfigProto()\n",
        "config.gpu_options.allow_growth = True\n",
        "session =tf.compat.v1.InteractiveSession(config=config)\n",
        "gpu = tf.config.list_physical_devices('GPU')\n",
        "tf.config.experimental.set_memory_growth(gpu[0], True)"
      ],
      "execution_count": 1,
      "outputs": []
    },
    {
      "cell_type": "code",
      "metadata": {
        "colab": {
          "base_uri": "https://localhost:8080/"
        },
        "id": "0SpmKrGKvRAo",
        "outputId": "25aa7b5f-72f4-4a94-f8d7-0168e0ff5053"
      },
      "source": [
        "!nvidia-smi"
      ],
      "execution_count": 2,
      "outputs": [
        {
          "output_type": "stream",
          "text": [
            "Mon Apr  5 19:38:36 2021       \r\n",
            "+-----------------------------------------------------------------------------+\r\n",
            "| NVIDIA-SMI 460.39       Driver Version: 460.39       CUDA Version: 11.2     |\r\n",
            "|-------------------------------+----------------------+----------------------+\r\n",
            "| GPU  Name        Persistence-M| Bus-Id        Disp.A | Volatile Uncorr. ECC |\r\n",
            "| Fan  Temp  Perf  Pwr:Usage/Cap|         Memory-Usage | GPU-Util  Compute M. |\r\n",
            "|                               |                      |               MIG M. |\r\n",
            "|===============================+======================+======================|\r\n",
            "|   0  Graphics Device     Off  | 00000000:26:00.0  On |                  N/A |\r\n",
            "| 60%   50C    P2    31W / 170W |    552MiB / 12045MiB |      1%      Default |\r\n",
            "|                               |                      |                  N/A |\r\n",
            "+-------------------------------+----------------------+----------------------+\r\n",
            "                                                                               \r\n",
            "+-----------------------------------------------------------------------------+\r\n",
            "| Processes:                                                                  |\r\n",
            "|  GPU   GI   CI        PID   Type   Process name                  GPU Memory |\r\n",
            "|        ID   ID                                                   Usage      |\r\n",
            "|=============================================================================|\r\n",
            "|    0   N/A  N/A      2268      G   /usr/lib/xorg/Xorg                107MiB |\r\n",
            "|    0   N/A  N/A      2650      G   /usr/bin/gnome-shell               24MiB |\r\n",
            "|    0   N/A  N/A      4153      G   ...AAAAAAAAA= --shared-files      162MiB |\r\n",
            "|    0   N/A  N/A     86903      C   ...dika/anaconda3/bin/python      253MiB |\r\n",
            "+-----------------------------------------------------------------------------+\r\n"
          ],
          "name": "stdout"
        }
      ]
    },
    {
      "cell_type": "markdown",
      "metadata": {
        "id": "bJJ19VfsvhYe"
      },
      "source": [
        "# Become one with the data"
      ]
    },
    {
      "cell_type": "code",
      "metadata": {
        "id": "bEVmmd6svjXA"
      },
      "source": [
        "import matplotlib.pyplot as plt\n",
        "import matplotlib.image as mpimg\n",
        "import random\n",
        "import os"
      ],
      "execution_count": 3,
      "outputs": []
    },
    {
      "cell_type": "code",
      "metadata": {
        "colab": {
          "base_uri": "https://localhost:8080/"
        },
        "id": "SqcDyQJ_v7pk",
        "outputId": "3d648876-244c-4e36-cddc-648948d1f564"
      },
      "source": [
        "paths_walkthrough = ['Dataset']\n",
        "for path_walkthrough in paths_walkthrough:\n",
        "  print('\\n'*5)\n",
        "  print('*-*'*50)\n",
        "  print(path_walkthrough)\n",
        "  print('*-*'*50)\n",
        "  print('\\n'*5)\n",
        "  for (root,dirs,files) in os.walk(path_walkthrough): \n",
        "    print('-'*50)\n",
        "    print(f'Root : {root}')\n",
        "    print(f'Dirs : {dirs}')\n",
        "    print(f'No of Imgs : {len(files)}')\n",
        "    print('-'*50)"
      ],
      "execution_count": 4,
      "outputs": [
        {
          "output_type": "stream",
          "text": [
            "\n",
            "\n",
            "\n",
            "\n",
            "\n",
            "\n",
            "*-**-**-**-**-**-**-**-**-**-**-**-**-**-**-**-**-**-**-**-**-**-**-**-**-**-**-**-**-**-**-**-**-**-**-**-**-**-**-**-**-**-**-**-**-**-**-**-**-**-*\n",
            "Dataset\n",
            "*-**-**-**-**-**-**-**-**-**-**-**-**-**-**-**-**-**-**-**-**-**-**-**-**-**-**-**-**-**-**-**-**-**-**-**-**-**-**-**-**-**-**-**-**-**-**-**-**-**-*\n",
            "\n",
            "\n",
            "\n",
            "\n",
            "\n",
            "\n",
            "--------------------------------------------------\n",
            "Root : Dataset\n",
            "Dirs : ['Validation', 'Test', 'Train']\n",
            "No of Imgs : 0\n",
            "--------------------------------------------------\n",
            "--------------------------------------------------\n",
            "Root : Dataset/Validation\n",
            "Dirs : ['Male', 'Female']\n",
            "No of Imgs : 0\n",
            "--------------------------------------------------\n",
            "--------------------------------------------------\n",
            "Root : Dataset/Validation/Male\n",
            "Dirs : []\n",
            "No of Imgs : 8820\n",
            "--------------------------------------------------\n",
            "--------------------------------------------------\n",
            "Root : Dataset/Validation/Female\n",
            "Dirs : []\n",
            "No of Imgs : 13778\n",
            "--------------------------------------------------\n",
            "--------------------------------------------------\n",
            "Root : Dataset/Test\n",
            "Dirs : ['Female', 'Male']\n",
            "No of Imgs : 0\n",
            "--------------------------------------------------\n",
            "--------------------------------------------------\n",
            "Root : Dataset/Test/Female\n",
            "Dirs : []\n",
            "No of Imgs : 11542\n",
            "--------------------------------------------------\n",
            "--------------------------------------------------\n",
            "Root : Dataset/Test/Male\n",
            "Dirs : []\n",
            "No of Imgs : 8459\n",
            "--------------------------------------------------\n",
            "--------------------------------------------------\n",
            "Root : Dataset/Train\n",
            "Dirs : ['Female', 'Male']\n",
            "No of Imgs : 0\n",
            "--------------------------------------------------\n",
            "--------------------------------------------------\n",
            "Root : Dataset/Train/Female\n",
            "Dirs : []\n",
            "No of Imgs : 92845\n",
            "--------------------------------------------------\n",
            "--------------------------------------------------\n",
            "Root : Dataset/Train/Male\n",
            "Dirs : []\n",
            "No of Imgs : 67155\n",
            "--------------------------------------------------\n"
          ],
          "name": "stdout"
        }
      ]
    },
    {
      "cell_type": "code",
      "metadata": {
        "colab": {
          "base_uri": "https://localhost:8080/",
          "height": 478
        },
        "id": "SzqoqHq5wIBo",
        "outputId": "2bd27f28-6b9a-4cfc-8578-1de2ac1d70f3"
      },
      "source": [
        "how_many_imgs = 1\n",
        "for _ in range(how_many_imgs):\n",
        "  random_type_of_data = random.choice(['Train','Test','Validation'])\n",
        "  print(random_type_of_data)\n",
        "  random_type_of_class = random.choice(os.listdir('./Dataset/Train'))\n",
        "  print(random_type_of_class)\n",
        "  random_type_of_img = random.choice(os.listdir(f'./Dataset/{random_type_of_data}/{random_type_of_class}'))\n",
        "  print(random_type_of_img)\n",
        "  path = f\"./Dataset/{random_type_of_data}/{random_type_of_class}/{random_type_of_img}\"\n",
        "  img = mpimg.imread(path)\n",
        "  img = img / 255.0\n",
        "  plt.figure(figsize=(10,7))\n",
        "  plt.imshow(img)\n",
        "  plt.title(f'Shape : {img.shape} | random_type_of_data : {random_type_of_data} | random_type_of_class : {random_type_of_class} | random_type_of_img : {random_type_of_img}')\n",
        "  plt.axis(False)\n",
        "  plt.show();"
      ],
      "execution_count": 5,
      "outputs": [
        {
          "output_type": "stream",
          "text": [
            "Train\n",
            "Female\n",
            "014988.jpg\n"
          ],
          "name": "stdout"
        },
        {
          "output_type": "display_data",
          "data": {
            "text/plain": [
              "<Figure size 720x504 with 1 Axes>"
            ],
            "image/png": "[encoded data removed]"
          },
          "metadata": {
            "tags": [],
            "needs_background": "light"
          }
        }
      ]
    },
    {
      "cell_type": "markdown",
      "metadata": {
        "id": "eySssuzDxCNB"
      },
      "source": [
        "# Loading the Data"
      ]
    },
    {
      "cell_type": "code",
      "metadata": {
        "id": "BKHpoXSfUO7n"
      },
      "source": [
        "from tensorflow.keras.preprocessing.image import ImageDataGenerator"
      ],
      "execution_count": 6,
      "outputs": []
    },
    {
      "cell_type": "code",
      "metadata": {
        "colab": {
          "base_uri": "https://localhost:8080/"
        },
        "id": "UR0xNoDsUTUs",
        "outputId": "ee5f7633-3a39-44a1-9d9e-7d9fd5ab4091"
      },
      "source": [
        "train_datagen = ImageDataGenerator(rescale=1/255.0,width_shift_range=0.25,height_shift_range=0.25,shear_range=0.25,zoom_range=0.25,horizontal_flip=True,vertical_flip=True,validation_split=0.993)\n",
        "valid_datagen = ImageDataGenerator(rescale=1/255.0)\n",
        "test_datagen = ImageDataGenerator(rescale=1/255.0)\n",
        "train_data = train_datagen.flow_from_directory('./Dataset/Train/',target_size=(224,224),class_mode=\"binary\")\n",
        "train_data_small = train_datagen.flow_from_directory('./Dataset/Train/',target_size=(224,224),subset='training',class_mode=\"binary\")\n",
        "valid_data = valid_datagen.flow_from_directory('./Dataset/Validation',target_size=(224,224),class_mode=\"binary\")"
      ],
      "execution_count": 7,
      "outputs": [
        {
          "output_type": "stream",
          "text": [
            "Found 160000 images belonging to 2 classes.\n",
            "Found 1121 images belonging to 2 classes.\n",
            "Found 22598 images belonging to 2 classes.\n"
          ],
          "name": "stdout"
        }
      ]
    },
    {
      "cell_type": "markdown",
      "metadata": {
        "id": "2nPHH3XhU3ve"
      },
      "source": [
        "# Modelling"
      ]
    },
    {
      "cell_type": "code",
      "metadata": {
        "id": "DyUxLK8MWBph"
      },
      "source": [
        "PROJECT_NAME = \"Gender-Classification\""
      ],
      "execution_count": 8,
      "outputs": []
    },
    {
      "cell_type": "code",
      "metadata": {
        "colab": {
          "base_uri": "https://localhost:8080/"
        },
        "id": "PWKkFBU3V4uf",
        "outputId": "27c42581-596e-49d0-91db-086ed7d1422a"
      },
      "source": [
        "!pip3 install wandb\n",
        "import wandb\n",
        "from wandb.keras import *\n",
        "import tensorflow_hub as hub\n",
        "import tensorflow as tf"
      ],
      "execution_count": 9,
      "outputs": [
        {
          "output_type": "stream",
          "text": [
            "Looking in indexes: https://pypi.org/simple, https://pypi.ngc.nvidia.com\r\n",
            "Requirement already satisfied: wandb in /home/indika/anaconda3/lib/python3.7/site-packages (0.10.24)\r\n",
            "Requirement already satisfied: six>=1.13.0 in /home/indika/anaconda3/lib/python3.7/site-packages (from wandb) (1.15.0)\r\n",
            "Requirement already satisfied: docker-pycreds>=0.4.0 in /home/indika/anaconda3/lib/python3.7/site-packages (from wandb) (0.4.0)\r\n",
            "Requirement already satisfied: requests<3,>=2.0.0 in /home/indika/anaconda3/lib/python3.7/site-packages (from wandb) (2.21.0)\r\n",
            "Requirement already satisfied: protobuf>=3.12.0 in /home/indika/anaconda3/lib/python3.7/site-packages (from wandb) (3.15.6)\r\n",
            "Requirement already satisfied: psutil>=5.0.0 in /home/indika/anaconda3/lib/python3.7/site-packages (from wandb) (5.6.1)\r\n",
            "Requirement already satisfied: promise<3,>=2.0 in /home/indika/anaconda3/lib/python3.7/site-packages (from wandb) (2.3)\r\n",
            "Requirement already satisfied: Click>=7.0 in /home/indika/anaconda3/lib/python3.7/site-packages (from wandb) (7.0)\r\n",
            "Requirement already satisfied: shortuuid>=0.5.0 in /home/indika/anaconda3/lib/python3.7/site-packages (from wandb) (1.0.1)\n",
            "Requirement already satisfied: pathtools in /home/indika/anaconda3/lib/python3.7/site-packages (from wandb) (0.1.2)\n",
            "Requirement already satisfied: PyYAML in /home/indika/anaconda3/lib/python3.7/site-packages (from wandb) (5.1)\n",
            "Requirement already satisfied: sentry-sdk>=0.4.0 in /home/indika/anaconda3/lib/python3.7/site-packages (from wandb) (1.0.0)\n",
            "Requirement already satisfied: configparser>=3.8.1 in /home/indika/anaconda3/lib/python3.7/site-packages (from wandb) (5.0.2)\n",
            "Requirement already satisfied: subprocess32>=3.5.3 in /home/indika/anaconda3/lib/python3.7/site-packages (from wandb) (3.5.4)\n",
            "Requirement already satisfied: GitPython>=1.0.0 in /home/indika/anaconda3/lib/python3.7/site-packages (from wandb) (3.1.14)\n",
            "Requirement already satisfied: python-dateutil>=2.6.1 in /home/indika/anaconda3/lib/python3.7/site-packages (from wandb) (2.8.0)\n",
            "Requirement already satisfied: gitdb<5,>=4.0.1 in /home/indika/anaconda3/lib/python3.7/site-packages (from GitPython>=1.0.0->wandb) (4.0.7)\n",
            "Requirement already satisfied: smmap<5,>=3.0.1 in /home/indika/anaconda3/lib/python3.7/site-packages (from gitdb<5,>=4.0.1->GitPython>=1.0.0->wandb) (4.0.0)\n",
            "Requirement already satisfied: chardet<3.1.0,>=3.0.2 in /home/indika/anaconda3/lib/python3.7/site-packages (from requests<3,>=2.0.0->wandb) (3.0.4)\n",
            "Requirement already satisfied: certifi>=2017.4.17 in /home/indika/anaconda3/lib/python3.7/site-packages (from requests<3,>=2.0.0->wandb) (2019.3.9)\n",
            "Requirement already satisfied: urllib3<1.25,>=1.21.1 in /home/indika/anaconda3/lib/python3.7/site-packages (from requests<3,>=2.0.0->wandb) (1.24.1)\n",
            "Requirement already satisfied: idna<2.9,>=2.5 in /home/indika/anaconda3/lib/python3.7/site-packages (from requests<3,>=2.0.0->wandb) (2.8)\n"
          ],
          "name": "stdout"
        }
      ]
    },
    {
      "cell_type": "code",
      "metadata": {
        "colab": {
          "base_uri": "https://localhost:8080/"
        },
        "id": "JoIqqoaXWYuJ",
        "outputId": "de104ee6-0736-461c-b0db-84d3fa6e698d"
      },
      "source": [
        "len(os.listdir('./Dataset/Train/'))"
      ],
      "execution_count": 10,
      "outputs": [
        {
          "output_type": "execute_result",
          "data": {
            "text/plain": [
              "2"
            ]
          },
          "metadata": {
            "tags": []
          },
          "execution_count": 10
        }
      ]
    },
    {
      "cell_type": "markdown",
      "metadata": {
        "id": "FK7VsD9lVuBR"
      },
      "source": [
        "## CNN (Custom) vs Transfer Learning (resnet50) vs Classification"
      ]
    },
    {
      "cell_type": "markdown",
      "metadata": {
        "id": "pR8Tsb1GVzvP"
      },
      "source": [
        "### Classificiation"
      ]
    },
    {
      "cell_type": "code",
      "metadata": {
        "id": "SlT6bJGtV1UC"
      },
      "source": [
        "# print('Initing wandb...')\n",
        "# wandb.init(project=PROJECT_NAME,name='classification-baseline')\n",
        "# print('Making the model...')\n",
        "# model = tf.keras.Sequential([\n",
        "#   tf.keras.layers.Flatten(input_shape=(224,224,3)),\n",
        "#   tf.keras.layers.Dense(5,activation='relu'),\n",
        "#   tf.keras.layers.Dense(5,activation='relu'),\n",
        "#   tf.keras.layers.Dense(len(os.listdir('./Dataset/Train/')),activation='sigmoid')\n",
        "# ])\n",
        "# print('Compileing the model...')\n",
        "# model.compile(loss=tf.keras.losses.BinaryCrossentropy(),metrics=['accuracy'],optimizer=tf.keras.optimizers.Adam())\n",
        "# print('fitting the model...')\n",
        "# model.fit(train_data_small,validation_data=(valid_data),epochs=25,callbacks=[WandbCallback()])\n",
        "# print('Done fitting the model...')\n",
        "# wandb.finish()\n",
        "# print('Finished the wandb...')"
      ],
      "execution_count": 11,
      "outputs": []
    },
    {
      "cell_type": "markdown",
      "metadata": {
        "id": "Tsg7Vdo2XI2Y"
      },
      "source": [
        "### CNN (Custom)"
      ]
    },
    {
      "cell_type": "code",
      "metadata": {
        "id": "4UEThw2aXO8n"
      },
      "source": [
        "# print('Initing wandb...')\n",
        "# wandb.init(project=PROJECT_NAME,name='cnn--custom--baseline')\n",
        "# print('Making the model...')\n",
        "# model = tf.keras.Sequential([\n",
        "#   tf.keras.layers.Conv2D(10,3,activation='relu',input_shape=(224,224,3)),\n",
        "#   tf.keras.layers.MaxPool2D(),\n",
        "#   tf.keras.layers.Conv2D(10,3,activation='relu'),\n",
        "#   tf.keras.layers.MaxPool2D(),\n",
        "#   tf.keras.layers.Conv2D(10,3,activation='relu'),\n",
        "#   tf.keras.layers.MaxPool2D(),\n",
        "#   tf.keras.layers.Conv2D(10,3,activation='relu'),\n",
        "#   tf.keras.layers.MaxPool2D(),\n",
        "#   tf.keras.layers.Conv2D(10,3,activation='relu'),\n",
        "#   tf.keras.layers.MaxPool2D(),\n",
        "#   tf.keras.layers.Conv2D(10,3,activation='relu'),\n",
        "#   tf.keras.layers.MaxPool2D(),\n",
        "#   tf.keras.layers.Flatten(),\n",
        "#   tf.keras.layers.Dense(len(os.listdir('./Dataset/Train/')),activation='sigmoid')\n",
        "# ])\n",
        "# print('Compileing the model...')\n",
        "# model.compile(loss=tf.keras.losses.BinaryCrossentropy(),metrics=['accuracy'],optimizer=tf.keras.optimizers.Adam())\n",
        "# print('fitting the model...')\n",
        "# model.fit(train_data_small,validation_data=(valid_data),epochs=25,callbacks=[WandbCallback()])\n",
        "# print('Done fitting the model...')\n",
        "# wandb.finish()\n",
        "# print('Finished the wandb...')"
      ],
      "execution_count": 12,
      "outputs": []
    },
    {
      "cell_type": "markdown",
      "metadata": {
        "id": "cn4MGyJ_a9f8"
      },
      "source": [
        "### Transfer Learning (resnet50)"
      ]
    },
    {
      "cell_type": "code",
      "metadata": {
        "id": "D7PjMJ7bjOPe"
      },
      "source": [
        "models_to_try = [\n",
        "    # ['efficentnetb2','https://tfhub.dev/tensorflow/efficientnet/b2/feature-vector/1'],\n",
        "    # ['efficentnetb7','https://tfhub.dev/tensorflow/efficientnet/b7/feature-vector/1'],\n",
        "    # ['efficentnetb5','https://tfhub.dev/tensorflow/efficientnet/b5/feature-vector/1'],\n",
        "    # ['efficentnetb4','https://tfhub.dev/tensorflow/efficientnet/b4/feature-vector/1'],\n",
        "    # ['efficentnetb3','https://tfhub.dev/tensorflow/efficientnet/b3/feature-vector/1'],\n",
        "    # ['efficentnetb1','https://tfhub.dev/tensorflow/efficientnet/b1/feature-vector/1'],\n",
        "    # ['efficentnetb6','https://tfhub.dev/tensorflow/efficientnet/b6/feature-vector/1'],\n",
        "    # ['resnet50','https://tfhub.dev/tensorflow/resnet_50/feature_vector/1'],\n",
        "    ['resnet_v2_152','https://tfhub.dev/google/imagenet/resnet_v2_152/feature_vector/4'],\n",
        "    # ['resnet_v1_152','https://tfhub.dev/google/imagenet/resnet_v1_152/feature_vector/4'],\n",
        "    ['resnet_v1_50','https://tfhub.dev/google/imagenet/resnet_v1_50/feature_vector/4'],\n",
        "    ['resnet_v1_101','https://tfhub.dev/google/imagenet/resnet_v1_101/feature_vector/4'],\n",
        "    # ['inception_resnet_v2','https://tfhub.dev/google/imagenet/inception_resnet_v2/feature_vector/4'],\n",
        "    # ['inception_v1','https://tfhub.dev/google/imagenet/inception_v1/feature_vector/4'],\n",
        "    ['inception_v3','https://tfhub.dev/google/imagenet/inception_v3/feature_vector/4'],\n",
        "    # ['nasnet_large','https://tfhub.dev/google/imagenet/nasnet_large/feature_vector/4'],\n",
        "    # ['nasnet_mobile','https://tfhub.dev/google/imagenet/nasnet_mobile/feature_vector/4'],\n",
        "    # ['mobilenet_v2','https://tfhub.dev/google/tf2-preview/mobilenet_v2/feature_vector/4'],\n",
        "    ['mobilenet_v3_large_100_224','https://tfhub.dev/google/imagenet/mobilenet_v3_large_100_224/feature_vector/5'],\n",
        "    # ['mobilenet_v2_100_224','https://tfhub.dev/google/imagenet/mobilenet_v2_100_224/feature_vector/4'],\n",
        "    # ['mobilenet_v2_140_224','https://tfhub.dev/google/imagenet/mobilenet_v2_140_224/feature_vector/4'],\n",
        "    # ['mobilenet_v1_100_224','https://tfhub.dev/google/imagenet/mobilenet_v1_100_224/feature_vector/4'],\n",
        "    ['mobilenet_v3_small_100_224','https://tfhub.dev/google/imagenet/mobilenet_v3_small_100_224/feature_vector/5'],\n",
        "    # ['efficentnetb0','https://tfhub.dev/tensorflow/efficientnet/b0/feature-vector/1'],\n",
        "]"
      ],
      "execution_count": 13,
      "outputs": []
    },
    {
      "cell_type": "code",
      "metadata": {
        "id": "WWLezzorg6Sz"
      },
      "source": [
        "# model_url = \"https://tfhub.dev/tensorflow/resnet_50/feature_vector/1\"\n",
        "# print('Initing wandb...')\n",
        "# wandb.init(project=PROJECT_NAME,name='transfer-learning--resnet50--baseline')\n",
        "# print('Making the model...')\n",
        "# model = tf.keras.Sequential([\n",
        "#   hub.KerasLayer(model_url,input_shape=(224,224,3),trainable=False),\n",
        "#   tf.keras.layers.Dense(len(os.listdir('./Dataset/Train/')),activation='sigmoid')\n",
        "# ])\n",
        "# print('Compileing the model...')\n",
        "# model.compile(loss=tf.keras.losses.BinaryCrossentropy(),metrics=['accuracy'],optimizer=tf.keras.optimizers.Adam())\n",
        "# print('fitting the model...')\n",
        "# model.fit(train_data_small,validation_data=(valid_data),epochs=25,callbacks=[WandbCallback()])\n",
        "# print('Done fitting the model...')\n",
        "# wandb.finish()\n",
        "# print('Finished the wandb...')"
      ],
      "execution_count": 14,
      "outputs": []
    },
    {
      "cell_type": "markdown",
      "metadata": {
        "id": "FUZ65unxjnyh"
      },
      "source": [
        "Classifiication vs CNN vs Transfer Learning Which is the best ? \n",
        "\n",
        "<hr>\n",
        "\n",
        "**Transfer Learning** Won !!"
      ]
    },
    {
      "cell_type": "code",
      "metadata": {
        "id": "IR3JTBvrkZ0Q"
      },
      "source": [
        "# for model_to_try in models_to_try:\n",
        "#   try:\n",
        "#     print('-'*100)\n",
        "#     print(model_to_try)\n",
        "#     print('-'*100)\n",
        "#     wandb.init(project=PROJECT_NAME,name=f\"{model_to_try[0]}-tl\")\n",
        "#     model = tf.keras.Sequential([\n",
        "#       hub.KerasLayer(model_to_try[1],input_shape=(224,224,3),trainable=False),\n",
        "#       tf.keras.layers.Dense(len(os.listdir('./Dataset/Train/')),activation='sigmoid')\n",
        "#     ])\n",
        "#     model.compile(loss=tf.keras.losses.CategoricalCrossentropy(),metrics=['accuracy'],optimizer=tf.keras.optimizers.Adam())\n",
        "#     model.fit(train_data_small,validation_data=(valid_data),epochs=5,callbacks=[WandbCallback(save_model=False)])\n",
        "#   except:\n",
        "#     print('-'*100)\n",
        "#     print('Didnt work')\n",
        "#     print(model_to_try)\n",
        "#     print('Didnt work')\n",
        "#     print('-'*100)"
      ],
      "execution_count": 15,
      "outputs": []
    },
    {
      "cell_type": "markdown",
      "metadata": {
        "id": "wo1taFFXBx1k"
      },
      "source": [
        "#### Best `Accuracy` = efficentnetb7\n",
        "#### Best `Val Accuracy` = efficentnetb4\n",
        "#### Best `Loss` = efficentnetb4\n",
        "#### Best `Val Loss` = efficentnetb4"
      ]
    },
    {
      "cell_type": "markdown",
      "metadata": {
        "id": "_sFibrt0rSVE"
      },
      "source": [
        "### **`...` won !! it is the best transfer learning model for this project so I am going to use `...` lets train the `...` model on the whole dataset (160000) images now I am just training is like 1250 or something small like that**"
      ]
    },
    {
      "cell_type": "code",
      "metadata": {
        "id": "5HQX2IKVtdhw"
      },
      "source": [
        "# import os\n",
        "\n",
        "# pid = os.getpid()\n",
        "# !kill -9 $pid"
      ],
      "execution_count": 16,
      "outputs": []
    },
    {
      "cell_type": "code",
      "metadata": {
        "colab": {
          "base_uri": "https://localhost:8080/",
          "height": 1000,
          "referenced_widgets": [
            "c329d319d8e246ce9e5ce80a2c4b817c",
            "e9fb2135941c4b1bbb1a43d168eb196c",
            "3da09b99d33247ceb782998be9eaaca3",
            "6613d478275b4e6dbfbbf1b2e8ddf4d0",
            "a048f1e3d45c42b0a127fdb663fda28a",
            "54b466599aae4d88a5f02a046363b1a5",
            "54c5eb70c79b4109bf69e4ad0a924e9d",
            "4faec0611ee54eba8be12070cc3f1c90",
            "f51d40cbf3c24aa389d6c653a0a6dfd9",
            "7e6e3a3f49df4e4aaa9442e2bf00e408",
            "16c55426a0424b96955ddad202e99b3a",
            "a9b93fac3dc14ecc971432c119196ed3",
            "6eb8e4ec4de441a48b3e16a8b288f0b7",
            "30217d94580b415c813313925c92bb84",
            "d5c77476b6cd44b4b4c1a1064d498d2f",
            "a248c91c76af4fb480a491608c771bd9"
          ]
        },
        "id": "Jzl166FJN8FE",
        "outputId": "ea6ea912-8aa2-426f-a00b-ff0a931f756e"
      },
      "source": [
        "model_url = \"https://tfhub.dev/tensorflow/efficientnet/b4/feature-vector/1\"\n",
        "print('Initing wandb...')\n",
        "wandb.init(project=PROJECT_NAME,name='big-dog-model-1')\n",
        "print('Making the model...')\n",
        "model = tf.keras.Sequential([\n",
        "  hub.KerasLayer(model_url,input_shape=(224,224,3),trainable=False),\n",
        "  tf.keras.layers.Dense(1,activation='sigmoid')\n",
        "])\n",
        "print('Compileing the model...')\n",
        "model.compile(loss=tf.keras.losses.BinaryCrossentropy(),metrics=['accuracy'],optimizer=tf.keras.optimizers.Adam())\n",
        "print('fitting the model...')\n",
        "model.fit(train_data,validation_data=(valid_data),epochs=7,callbacks=[WandbCallback(),tf.keras.callbacks.EarlyStopping(patience=round(2.5))])\n",
        "print('Done fitting the model...')\n",
        "wandb.finish()\n",
        "print('Finished the wandb...')\n",
        "print('Saving the model...')\n",
        "model.save('./model-1.h5')\n",
        "print('Done saving the model...')\n",
        "print('Finished big dog model 0')"
      ],
      "execution_count": 31,
      "outputs": [
        {
          "output_type": "stream",
          "text": [
            "Initing wandb...\n"
          ],
          "name": "stdout"
        },
        {
          "output_type": "display_data",
          "data": {
            "text/plain": [
              "<IPython.core.display.HTML object>"
            ],
            "text/html": [
              "Finishing last run (ID:1dyydlph) before initializing another..."
            ]
          },
          "metadata": {
            "tags": []
          }
        },
        {
          "output_type": "display_data",
          "data": {
            "text/plain": [
              "<IPython.core.display.HTML object>"
            ],
            "text/html": [
              "<br/>Waiting for W&B process to finish, PID 94248<br/>Program ended successfully."
            ]
          },
          "metadata": {
            "tags": []
          }
        },
        {
          "output_type": "display_data",
          "data": {
            "text/plain": [
              "VBox(children=(Label(value=' 67.95MB of 67.95MB uploaded (0.00MB deduped)\\r'), FloatProgress(value=1.0, max=1.…"
            ],
            "application/vnd.jupyter.widget-view+json": {
              "version_major": 2,
              "version_minor": 0,
              "model_id": "c329d319d8e246ce9e5ce80a2c4b817c"
            }
          },
          "metadata": {
            "tags": []
          }
        },
        {
          "output_type": "display_data",
          "data": {
            "text/plain": [
              "<IPython.core.display.HTML object>"
            ],
            "text/html": [
              "Find user logs for this run at: <code>/home/indika/Programming/Projects/Python/Artifical-Intelligence/Tensorflow/CNN/Gender-Classification-CelebA/wandb/run-20210405_194322-1dyydlph/logs/debug.log</code>"
            ]
          },
          "metadata": {
            "tags": []
          }
        },
        {
          "output_type": "display_data",
          "data": {
            "text/plain": [
              "<IPython.core.display.HTML object>"
            ],
            "text/html": [
              "Find internal logs for this run at: <code>/home/indika/Programming/Projects/Python/Artifical-Intelligence/Tensorflow/CNN/Gender-Classification-CelebA/wandb/run-20210405_194322-1dyydlph/logs/debug-internal.log</code>"
            ]
          },
          "metadata": {
            "tags": []
          }
        },
        {
          "output_type": "display_data",
          "data": {
            "text/plain": [
              "<IPython.core.display.HTML object>"
            ],
            "text/html": [
              "<h3>Run summary:</h3><br/><style>\n",
              "    table.wandb td:nth-child(1) { padding: 0 10px; text-align: right }\n",
              "    </style><table class=\"wandb\">\n",
              "<tr><td>epoch</td><td>3</td></tr><tr><td>loss</td><td>0.17527</td></tr><tr><td>accuracy</td><td>0.9296</td></tr><tr><td>val_loss</td><td>0.14196</td></tr><tr><td>val_accuracy</td><td>0.94433</td></tr><tr><td>_runtime</td><td>4865</td></tr><tr><td>_timestamp</td><td>1617636867</td></tr><tr><td>_step</td><td>3</td></tr><tr><td>best_val_loss</td><td>0.14196</td></tr><tr><td>best_epoch</td><td>3</td></tr></table>"
            ]
          },
          "metadata": {
            "tags": []
          }
        },
        {
          "output_type": "display_data",
          "data": {
            "text/plain": [
              "<IPython.core.display.HTML object>"
            ],
            "text/html": [
              "<h3>Run history:</h3><br/><style>\n",
              "    table.wandb td:nth-child(1) { padding: 0 10px; text-align: right }\n",
              "    </style><table class=\"wandb\">\n",
              "<tr><td>epoch</td><td>▁▃▆█</td></tr><tr><td>loss</td><td>█▃▂▁</td></tr><tr><td>accuracy</td><td>▁▆██</td></tr><tr><td>val_loss</td><td>█▁▃▁</td></tr><tr><td>val_accuracy</td><td>▁█▆▇</td></tr><tr><td>_runtime</td><td>▁▃▆█</td></tr><tr><td>_timestamp</td><td>▁▃▆█</td></tr><tr><td>_step</td><td>▁▃▆█</td></tr></table><br/>"
            ]
          },
          "metadata": {
            "tags": []
          }
        },
        {
          "output_type": "display_data",
          "data": {
            "text/plain": [
              "<IPython.core.display.HTML object>"
            ],
            "text/html": [
              "Synced 5 W&B file(s), 1 media file(s), 0 artifact file(s) and 2 other file(s)"
            ]
          },
          "metadata": {
            "tags": []
          }
        },
        {
          "output_type": "display_data",
          "data": {
            "text/plain": [
              "<IPython.core.display.HTML object>"
            ],
            "text/html": [
              "\n",
              "                    <br/>Synced <strong style=\"color:#cdcd00\">test</strong>: <a href=\"https://wandb.ai/ranuga-d/Gender-Classification/runs/1dyydlph\" target=\"_blank\">https://wandb.ai/ranuga-d/Gender-Classification/runs/1dyydlph</a><br/>\n",
              "                "
            ]
          },
          "metadata": {
            "tags": []
          }
        },
        {
          "output_type": "display_data",
          "data": {
            "text/plain": [
              "<IPython.core.display.HTML object>"
            ],
            "text/html": [
              "...Successfully finished last run (ID:1dyydlph). Initializing new run:<br/><br/>"
            ]
          },
          "metadata": {
            "tags": []
          }
        },
        {
          "output_type": "display_data",
          "data": {
            "text/plain": [
              "<IPython.core.display.HTML object>"
            ],
            "text/html": [
              "\n",
              "                Tracking run with wandb version 0.10.24<br/>\n",
              "                Syncing run <strong style=\"color:#cdcd00\">test</strong> to <a href=\"https://wandb.ai\" target=\"_blank\">Weights & Biases</a> <a href=\"https://docs.wandb.com/integrations/jupyter.html\" target=\"_blank\">(Documentation)</a>.<br/>\n",
              "                Project page: <a href=\"https://wandb.ai/ranuga-d/Gender-Classification\" target=\"_blank\">https://wandb.ai/ranuga-d/Gender-Classification</a><br/>\n",
              "                Run page: <a href=\"https://wandb.ai/ranuga-d/Gender-Classification/runs/3q4ep5m7\" target=\"_blank\">https://wandb.ai/ranuga-d/Gender-Classification/runs/3q4ep5m7</a><br/>\n",
              "                Run data is saved locally in <code>/home/indika/Programming/Projects/Python/Artifical-Intelligence/Tensorflow/CNN/Gender-Classification-CelebA/wandb/run-20210405_212105-3q4ep5m7</code><br/><br/>\n",
              "            "
            ]
          },
          "metadata": {
            "tags": []
          }
        },
        {
          "output_type": "stream",
          "text": [
            "Making the model...\n",
            "Compileing the model...\n",
            "fitting the model...\n",
            "Epoch 1/2\n",
            "5000/5000 [==============================] - 1277s 254ms/step - loss: 0.2274 - accuracy: 0.9072 - val_loss: 0.1480 - val_accuracy: 0.9418\n",
            "Epoch 2/2\n",
            "5000/5000 [==============================] - 1244s 249ms/step - loss: 0.1853 - accuracy: 0.9249 - val_loss: 0.1413 - val_accuracy: 0.9453\n",
            "Done fitting the model...\n"
          ],
          "name": "stdout"
        },
        {
          "output_type": "display_data",
          "data": {
            "text/plain": [
              "<IPython.core.display.HTML object>"
            ],
            "text/html": [
              "<br/>Waiting for W&B process to finish, PID 168821<br/>Program ended successfully."
            ]
          },
          "metadata": {
            "tags": []
          }
        },
        {
          "output_type": "display_data",
          "data": {
            "text/plain": [
              "VBox(children=(Label(value=' 67.95MB of 67.95MB uploaded (0.00MB deduped)\\r'), FloatProgress(value=1.0, max=1.…"
            ],
            "application/vnd.jupyter.widget-view+json": {
              "version_major": 2,
              "version_minor": 0,
              "model_id": "f51d40cbf3c24aa389d6c653a0a6dfd9"
            }
          },
          "metadata": {
            "tags": []
          }
        },
        {
          "output_type": "display_data",
          "data": {
            "text/plain": [
              "<IPython.core.display.HTML object>"
            ],
            "text/html": [
              "Find user logs for this run at: <code>/home/indika/Programming/Projects/Python/Artifical-Intelligence/Tensorflow/CNN/Gender-Classification-CelebA/wandb/run-20210405_212105-3q4ep5m7/logs/debug.log</code>"
            ]
          },
          "metadata": {
            "tags": []
          }
        },
        {
          "output_type": "display_data",
          "data": {
            "text/plain": [
              "<IPython.core.display.HTML object>"
            ],
            "text/html": [
              "Find internal logs for this run at: <code>/home/indika/Programming/Projects/Python/Artifical-Intelligence/Tensorflow/CNN/Gender-Classification-CelebA/wandb/run-20210405_212105-3q4ep5m7/logs/debug-internal.log</code>"
            ]
          },
          "metadata": {
            "tags": []
          }
        },
        {
          "output_type": "display_data",
          "data": {
            "text/plain": [
              "<IPython.core.display.HTML object>"
            ],
            "text/html": [
              "<h3>Run summary:</h3><br/><style>\n",
              "    table.wandb td:nth-child(1) { padding: 0 10px; text-align: right }\n",
              "    </style><table class=\"wandb\">\n",
              "<tr><td>epoch</td><td>1</td></tr><tr><td>loss</td><td>0.18248</td></tr><tr><td>accuracy</td><td>0.9262</td></tr><tr><td>val_loss</td><td>0.14128</td></tr><tr><td>val_accuracy</td><td>0.94535</td></tr><tr><td>_runtime</td><td>2540</td></tr><tr><td>_timestamp</td><td>1617640488</td></tr><tr><td>_step</td><td>1</td></tr><tr><td>best_val_loss</td><td>0.14128</td></tr><tr><td>best_epoch</td><td>1</td></tr></table>"
            ]
          },
          "metadata": {
            "tags": []
          }
        },
        {
          "output_type": "display_data",
          "data": {
            "text/plain": [
              "<IPython.core.display.HTML object>"
            ],
            "text/html": [
              "<h3>Run history:</h3><br/><style>\n",
              "    table.wandb td:nth-child(1) { padding: 0 10px; text-align: right }\n",
              "    </style><table class=\"wandb\">\n",
              "<tr><td>epoch</td><td>▁█</td></tr><tr><td>loss</td><td>█▁</td></tr><tr><td>accuracy</td><td>▁█</td></tr><tr><td>val_loss</td><td>█▁</td></tr><tr><td>val_accuracy</td><td>▁█</td></tr><tr><td>_runtime</td><td>▁█</td></tr><tr><td>_timestamp</td><td>▁█</td></tr><tr><td>_step</td><td>▁█</td></tr></table><br/>"
            ]
          },
          "metadata": {
            "tags": []
          }
        },
        {
          "output_type": "display_data",
          "data": {
            "text/plain": [
              "<IPython.core.display.HTML object>"
            ],
            "text/html": [
              "Synced 5 W&B file(s), 1 media file(s), 0 artifact file(s) and 1 other file(s)"
            ]
          },
          "metadata": {
            "tags": []
          }
        },
        {
          "output_type": "display_data",
          "data": {
            "text/plain": [
              "<IPython.core.display.HTML object>"
            ],
            "text/html": [
              "\n",
              "                    <br/>Synced <strong style=\"color:#cdcd00\">test</strong>: <a href=\"https://wandb.ai/ranuga-d/Gender-Classification/runs/3q4ep5m7\" target=\"_blank\">https://wandb.ai/ranuga-d/Gender-Classification/runs/3q4ep5m7</a><br/>\n",
              "                "
            ]
          },
          "metadata": {
            "tags": []
          }
        },
        {
          "output_type": "stream",
          "text": [
            "Finished the wandb...\n",
            "Saving the model...\n",
            "Done saving the model...\n",
            "Finished big dog model 0\n"
          ],
          "name": "stdout"
        }
      ]
    },
    {
      "cell_type": "code",
      "metadata": {
        "id": "jpU-afUgAvY5"
      },
      "source": [
        "model = tf.keras.models.load_model('./model-0.h5',custom_objects={'KerasLayer':hub.KerasLayer})"
      ],
      "execution_count": 32,
      "outputs": []
    },
    {
      "cell_type": "code",
      "metadata": {
        "id": "FiFzGHDZOt5F",
        "colab": {
          "base_uri": "https://localhost:8080/"
        },
        "outputId": "c40fd2b5-cc55-4c0d-eb9e-aa9f24648ff5"
      },
      "source": [
        "test_data = test_datagen.flow_from_directory('./Dataset/Test',target_size=(224,224),class_mode='binary')\n",
        "model.evaluate(test_data)"
      ],
      "execution_count": 35,
      "outputs": [
        {
          "output_type": "stream",
          "text": [
            "Found 20001 images belonging to 2 classes.\n",
            "626/626 [==============================] - 183s 289ms/step - loss: 0.1314 - accuracy: 0.9497\n"
          ],
          "name": "stdout"
        },
        {
          "output_type": "execute_result",
          "data": {
            "text/plain": [
              "[0.1313631236553192, 0.9497025012969971]"
            ]
          },
          "metadata": {
            "tags": []
          },
          "execution_count": 35
        }
      ]
    },
    {
      "cell_type": "code",
      "metadata": {
        "id": "SYtGRvUxXefg"
      },
      "source": [
        "# model.evaluate(valid_data)"
      ],
      "execution_count": 36,
      "outputs": []
    },
    {
      "cell_type": "code",
      "metadata": {
        "id": "dHkFnw9DAPue"
      },
      "source": [
        "# !pip install 'h5py < 3.0.0'"
      ],
      "execution_count": 37,
      "outputs": []
    },
    {
      "cell_type": "code",
      "metadata": {
        "id": "R_CJWDPhWP_Y"
      },
      "source": [
        "# model.evaluate(train_data)"
      ],
      "execution_count": 38,
      "outputs": []
    },
    {
      "cell_type": "code",
      "metadata": {
        "id": "wbxUYrZbYcn7"
      },
      "source": [
        "preds = model.predict(valid_data)"
      ],
      "execution_count": 39,
      "outputs": []
    },
    {
      "cell_type": "code",
      "metadata": {
        "colab": {
          "base_uri": "https://localhost:8080/"
        },
        "id": "E9If8qTOWgl4",
        "outputId": "f23d1cfc-097a-4abc-989d-f3c682f0b445"
      },
      "source": [
        "for pred in preds:\n",
        "  print(pred)\n",
        "  break"
      ],
      "execution_count": 41,
      "outputs": [
        {
          "output_type": "stream",
          "text": [
            "[0.9998784]\n"
          ],
          "name": "stdout"
        }
      ]
    },
    {
      "cell_type": "markdown",
      "metadata": {
        "id": "_2ih6Yo5V6ea"
      },
      "source": [
        "# Testing with real world data"
      ]
    },
    {
      "cell_type": "code",
      "metadata": {
        "id": "rV2BM-phV8ok"
      },
      "source": [
        "imgs = os.listdir('./Test')"
      ],
      "execution_count": 66,
      "outputs": []
    },
    {
      "cell_type": "code",
      "metadata": {
        "colab": {
          "base_uri": "https://localhost:8080/"
        },
        "id": "NxRjqRReapwy",
        "outputId": "25214b50-ddcc-406d-8696-ed3e23c27648"
      },
      "source": [
        "imgs"
      ],
      "execution_count": 67,
      "outputs": [
        {
          "output_type": "execute_result",
          "data": {
            "text/plain": [
              "['WhatsApp Image 2021-04-05 at 19.46.02.jpeg',\n",
              " 'WhatsApp Image 2021-04-05 at 22.20.27.jpeg',\n",
              " 'WhatsApp Image 2021-04-05 at 22.20.28 (1).jpeg',\n",
              " 'WhatsApp Image 2021-04-05 at 19.46.03.jpeg',\n",
              " 'WhatsApp Image 2021-04-05 at 19.46.01 (1).jpeg',\n",
              " 'WhatsApp Image 2021-04-05 at 19.46.01.jpeg',\n",
              " 'WhatsApp Image 2021-04-05 at 19.46.02 (1).jpeg',\n",
              " 'WhatsApp Image 2021-04-05 at 22.20.29.jpeg',\n",
              " 'WhatsApp Image 2021-04-05 at 22.20.28.jpeg',\n",
              " 'WhatsApp Image 2021-04-05 at 19.46.02 (2).jpeg']"
            ]
          },
          "metadata": {
            "tags": []
          },
          "execution_count": 67
        }
      ]
    },
    {
      "cell_type": "code",
      "metadata": {
        "colab": {
          "base_uri": "https://localhost:8080/"
        },
        "id": "fKZJHrWd6oQg",
        "outputId": "f8871109-9057-43f4-f2c3-eb61e380e894"
      },
      "source": [
        "!pip3 install keras_preprocessing"
      ],
      "execution_count": 74,
      "outputs": [
        {
          "output_type": "stream",
          "text": [
            "Looking in indexes: https://pypi.org/simple, https://pypi.ngc.nvidia.com\r\n",
            "Requirement already satisfied: keras_preprocessing in /home/indika/.local/lib/python3.7/site-packages (1.1.2)\r\n",
            "Requirement already satisfied: six>=1.9.0 in /home/indika/anaconda3/lib/python3.7/site-packages (from keras_preprocessing) (1.15.0)\r\n",
            "Requirement already satisfied: numpy>=1.9.1 in /home/indika/anaconda3/lib/python3.7/site-packages (from keras_preprocessing) (1.19.5)\r\n"
          ],
          "name": "stdout"
        }
      ]
    },
    {
      "cell_type": "code",
      "metadata": {
        "id": "oPFK-uSftoHM"
      },
      "source": [
        "from keras_preprocessing import image\n",
        "import numpy as np"
      ],
      "execution_count": 70,
      "outputs": []
    },
    {
      "cell_type": "code",
      "metadata": {
        "id": "02jf845jaqYt"
      },
      "source": [
        "for img in imgs:\n",
        "  img_see = mpimg.imread(f'./Test/{img}')\n",
        "  img = image.load_img(f'./Test/{img}',target_size=(224,224))\n",
        "  img = image.img_to_array(img)\n",
        "  pred = model.predict(np.expand_dims(img,axis=0))\n",
        "  class_names = ['Male','Female']\n",
        "  pred = class_names[int(tf.squeeze(tf.round(tf.squeeze(pred))))]\n",
        "  plt.figure(figsize=(10,7))\n",
        "  plt.imshow(img_see)\n",
        "  plt.title(f'Pred : {pred}')\n",
        "  plt.axis(False)\n",
        "  plt.show();"
      ],
      "execution_count": null,
      "outputs": []
    },
    {
      "cell_type": "code",
      "metadata": {
        "id": "e_wMPabp6uRl"
      },
      "source": [
        ""
      ],
      "execution_count": 73,
      "outputs": []
    }
  ]
}